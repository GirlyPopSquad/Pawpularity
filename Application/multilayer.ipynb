{
 "cells": [
  {
   "cell_type": "code",
   "execution_count": 8,
   "id": "a8ced3a0",
   "metadata": {},
   "outputs": [],
   "source": [
    "import torch\n",
    "import torch.nn as nn\n",
    "import torch.optim as optim\n",
    "from sklearn.datasets import load_breast_cancer\n",
    "from sklearn.model_selection import train_test_split\n",
    "from sklearn.preprocessing import StandardScaler"
   ]
  },
  {
   "cell_type": "code",
   "execution_count": 9,
   "id": "ca5caffb",
   "metadata": {},
   "outputs": [],
   "source": [
    "# Define the MLP model class\n",
    "class MLP(nn.Module):\n",
    "    def __init__(self):\n",
    "        super().__init__()\n",
    "        self.model = nn.Sequential(\n",
    "            nn.Linear(30, 64),  # input layer (30 features) -> hidden layer (64 neurons)\n",
    "            nn.ReLU(),          # activation function\n",
    "            nn.Linear(64, 1),   # hidden layer (64 neurons) -> output layer (1 neuron)\n",
    "            nn.Sigmoid()        # sigmoid activation for binary classification\n",
    "        )\n",
    "    \n",
    "    def forward(self, x):\n",
    "        return self.model(x)"
   ]
  },
  {
   "cell_type": "code",
   "execution_count": 10,
   "id": "8c087dc8",
   "metadata": {},
   "outputs": [],
   "source": [
    "# Load Breast Cancer dataset from sklearn\n",
    "data = load_breast_cancer()\n",
    "X = data.data  # Features\n",
    "y = data.target  # Labels (0 = benign, 1 = malignant)\n",
    "\n",
    "# Split the data into training and testing sets\n",
    "X_train, X_test, y_train, y_test = train_test_split(X, y, test_size=0.2, random_state=42)"
   ]
  },
  {
   "cell_type": "code",
   "execution_count": 11,
   "id": "d7e71123",
   "metadata": {},
   "outputs": [],
   "source": [
    "# Standardize the data (normalize)\n",
    "scaler = StandardScaler()\n",
    "X_train = scaler.fit_transform(X_train)\n",
    "X_test = scaler.transform(X_test)"
   ]
  },
  {
   "cell_type": "code",
   "execution_count": 12,
   "id": "264950aa",
   "metadata": {},
   "outputs": [],
   "source": [
    "# Convert to PyTorch tensors\n",
    "X_train_tensor = torch.tensor(X_train, dtype=torch.float32)\n",
    "y_train_tensor = torch.tensor(y_train, dtype=torch.float32).view(-1, 1)\n",
    "X_test_tensor = torch.tensor(X_test, dtype=torch.float32)\n",
    "y_test_tensor = torch.tensor(y_test, dtype=torch.float32).view(-1, 1)\n"
   ]
  },
  {
   "cell_type": "code",
   "execution_count": 13,
   "id": "b9a545f6",
   "metadata": {},
   "outputs": [],
   "source": [
    "# Instantiate the model\n",
    "mlp = MLP()\n",
    "\n",
    "# Loss function and optimizer\n",
    "criterion = nn.BCELoss()  # Binary Cross-Entropy Loss\n",
    "optimizer = optim.Adam(mlp.parameters(), lr=0.001)\n"
   ]
  },
  {
   "cell_type": "code",
   "execution_count": 14,
   "id": "a197fd32",
   "metadata": {},
   "outputs": [
    {
     "name": "stdout",
     "output_type": "stream",
     "text": [
      "Epoch [50/500], Loss: 0.2125\n",
      "Epoch [100/500], Loss: 0.1114\n",
      "Epoch [150/500], Loss: 0.0793\n",
      "Epoch [200/500], Loss: 0.0635\n",
      "Epoch [250/500], Loss: 0.0532\n",
      "Epoch [300/500], Loss: 0.0458\n",
      "Epoch [350/500], Loss: 0.0397\n",
      "Epoch [400/500], Loss: 0.0345\n",
      "Epoch [450/500], Loss: 0.0299\n",
      "Epoch [500/500], Loss: 0.0259\n"
     ]
    }
   ],
   "source": [
    "# Training loop\n",
    "epochs = 500\n",
    "for epoch in range(epochs):\n",
    "    # Forward pass\n",
    "    outputs = mlp(X_train_tensor)\n",
    "    \n",
    "    # Compute the loss\n",
    "    loss = criterion(outputs, y_train_tensor)\n",
    "    \n",
    "    # Backward pass\n",
    "    optimizer.zero_grad()   # Zero the gradients before backpropagation\n",
    "    loss.backward()         # Backpropagation to calculate gradients\n",
    "    \n",
    "    # Update weights\n",
    "    optimizer.step()        # Update weights using optimizer\n",
    "    \n",
    "    # Print loss every 50 iterations\n",
    "    if (epoch + 1) % 50 == 0:\n",
    "        print(f\"Epoch [{epoch+1}/{epochs}], Loss: {loss.item():.4f}\")"
   ]
  },
  {
   "cell_type": "code",
   "execution_count": 15,
   "id": "aba26799",
   "metadata": {},
   "outputs": [
    {
     "name": "stdout",
     "output_type": "stream",
     "text": [
      "Test Accuracy: 97.37%\n"
     ]
    }
   ],
   "source": [
    "# Evaluate the model on the test set\n",
    "with torch.no_grad():  # Disable gradient tracking during testing\n",
    "    y_pred = mlp(X_test_tensor)  # Get predictions\n",
    "    y_pred_class = (y_pred > 0.5).float()  # Convert to binary (0 or 1)\n",
    "\n",
    "    accuracy = (y_pred_class == y_test_tensor).float().mean()  # Compute accuracy\n",
    "    print(f\"Test Accuracy: {accuracy.item() * 100:.2f}%\")"
   ]
  }
 ],
 "metadata": {
  "kernelspec": {
   "display_name": "Python 3",
   "language": "python",
   "name": "python3"
  },
  "language_info": {
   "codemirror_mode": {
    "name": "ipython",
    "version": 3
   },
   "file_extension": ".py",
   "mimetype": "text/x-python",
   "name": "python",
   "nbconvert_exporter": "python",
   "pygments_lexer": "ipython3",
   "version": "3.13.2"
  }
 },
 "nbformat": 4,
 "nbformat_minor": 5
}
