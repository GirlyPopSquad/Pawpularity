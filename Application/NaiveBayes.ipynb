{
 "cells": [
  {
   "cell_type": "code",
   "execution_count": 254,
   "metadata": {},
   "outputs": [
    {
     "name": "stdout",
     "output_type": "stream",
     "text": [
      "   Subject Focus  Eyes  Face  Near  Action  Accessory  Group  Collage  Human  \\\n",
      "0              0     1     1     1       0          0      1        0      0   \n",
      "1              0     1     1     0       0          0      0        0      0   \n",
      "2              0     1     1     1       0          0      0        0      1   \n",
      "3              0     1     1     1       0          0      0        0      0   \n",
      "4              0     0     0     1       0          0      1        0      0   \n",
      "\n",
      "   Info  Blur  \n",
      "0     0     0  \n",
      "1     0     0  \n",
      "2     0     0  \n",
      "3     0     0  \n",
      "4     0     0  \n",
      "Number of features in X_train: 11\n"
     ]
    }
   ],
   "source": [
    "from sklearn.naive_bayes import GaussianNB\n",
    "from sklearn.model_selection import train_test_split\n",
    "import matplotlib.pyplot as plt\n",
    "import pandas as pd\n",
    "import numpy as np\n",
    "from sklearn.decomposition import PCA\n",
    "from sklearn.feature_selection import mutual_info_classif\n",
    "from sklearn.metrics import (\n",
    "    confusion_matrix,\n",
    "    ConfusionMatrixDisplay,\n",
    "    classification_report,\n",
    "    accuracy_score\n",
    ")\n",
    "\n",
    "feature_names = ['Subject Focus', 'Eyes', 'Face', 'Near', 'Action', 'Accessory', \n",
    "                 'Group', 'Collage', 'Human', 'Info', 'Blur']\n",
    "\n",
    "df = pd.read_csv('Data/train.csv')\n",
    "X = df[feature_names]\n",
    "y = df['Occlusion']\n",
    "\n",
    "print(X.head())\n",
    "\n",
    "print(f'Number of features in X_train: {X.shape[1]}')"
   ]
  },
  {
   "cell_type": "code",
   "execution_count": 255,
   "metadata": {},
   "outputs": [
    {
     "name": "stdout",
     "output_type": "stream",
     "text": [
      "Feature Human: Importance 0.1601\n",
      "Feature Eyes: Importance 0.0039\n",
      "Feature Near: Importance 0.0039\n",
      "Feature Subject Focus: Importance 0.0012\n",
      "Feature Action: Importance 0.0012\n",
      "Feature Info: Importance 0.0006\n",
      "Feature Blur: Importance 0.0000\n",
      "Feature Accessory: Importance 0.0000\n",
      "Feature Group: Importance 0.0000\n",
      "Feature Collage: Importance 0.0000\n",
      "Feature Face: Importance 0.0000\n"
     ]
    }
   ],
   "source": [
    "# Fit mutual information\n",
    "mi = mutual_info_classif(X, y)\n",
    "\n",
    "# Sort and display the most important features\n",
    "feature_importance = np.argsort(mi)[::-1]  # Sort descending\n",
    "\n",
    "for i in feature_importance:\n",
    "    print(f\"Feature {feature_names[i]}: Importance {mi[i]:.4f}\")"
   ]
  },
  {
   "cell_type": "code",
   "execution_count": 256,
   "metadata": {},
   "outputs": [
    {
     "name": "stdout",
     "output_type": "stream",
     "text": [
      "Top 5 selected features:\n",
      "Feature Subject Focus\n",
      "Feature Accessory\n",
      "Feature Collage\n",
      "Feature Human\n",
      "Feature Info\n"
     ]
    }
   ],
   "source": [
    "from sklearn.feature_selection import SelectKBest, chi2\n",
    "\n",
    "# Select top 5 features based on Chi-squared test\n",
    "selector = SelectKBest(chi2, k=5)\n",
    "X_new = selector.fit_transform(X, y)\n",
    "\n",
    "# Get indices of the top features selected\n",
    "top_features_indices = selector.get_support(indices=True)\n",
    "\n",
    "# Print the top features with their names\n",
    "print(\"Top 5 selected features:\")\n",
    "for i in top_features_indices:\n",
    "    print(f\"Feature {feature_names[i]}\")"
   ]
  },
  {
   "cell_type": "code",
   "execution_count": 257,
   "metadata": {},
   "outputs": [
    {
     "name": "stdout",
     "output_type": "stream",
     "text": [
      "Reduced from 11 to 10 features\n",
      "Features kept: ['Subject Focus', 'Eyes', 'Face', 'Near', 'Accessory', 'Group', 'Collage', 'Human', 'Info', 'Blur']\n",
      "Features removed: ['Action']\n"
     ]
    }
   ],
   "source": [
    "from sklearn.feature_selection import VarianceThreshold\n",
    "\n",
    "# Fit the variance threshold selector\n",
    "selector = VarianceThreshold(threshold=0.01)  # Remove features with variance < 0.01\n",
    "X_selected = selector.fit_transform(X)\n",
    "\n",
    "# Features that were kept (those with variance above the threshold)\n",
    "selected_features = [feature_names[i] for i in range(X.shape[1]) if selector.get_support()[i]]\n",
    "\n",
    "# Features that were removed (those with variance below the threshold)\n",
    "removed_features = [feature_names[i] for i in range(X.shape[1]) if not selector.get_support()[i]]\n",
    "\n",
    "# Output the results\n",
    "print(f\"Reduced from {X.shape[1]} to {X_selected.shape[1]} features\")\n",
    "print(\"Features kept:\", selected_features)\n",
    "print(\"Features removed:\", removed_features)"
   ]
  },
  {
   "cell_type": "code",
   "execution_count": 258,
   "metadata": {},
   "outputs": [
    {
     "name": "stdout",
     "output_type": "stream",
     "text": [
      "Selected features: ['Subject Focus', 'Accessory', 'Group', 'Human', 'Info']\n"
     ]
    }
   ],
   "source": [
    "from sklearn.feature_selection import RFE\n",
    "from sklearn.linear_model import LogisticRegression\n",
    "\n",
    "# Use logistic regression as a proxy model\n",
    "lr = LogisticRegression()\n",
    "selector = RFE(lr, n_features_to_select=5)  # Select top 5 features\n",
    "selector.fit(X, y)\n",
    "\n",
    "# Get the selected features by index\n",
    "selected_features_indices = np.where(selector.support_)[0]\n",
    "\n",
    "# Map selected indices to feature names\n",
    "selected_feature_names = [feature_names[i] for i in selected_features_indices]\n",
    "\n",
    "# Output selected features\n",
    "print(f\"Selected features: {selected_feature_names}\")"
   ]
  },
  {
   "cell_type": "code",
   "execution_count": 259,
   "metadata": {},
   "outputs": [
    {
     "name": "stdout",
     "output_type": "stream",
     "text": [
      "Evaluation for feature set: ['Human']\n",
      "Classification Report:\n",
      "               precision    recall  f1-score   support\n",
      "\n",
      "           0       0.93      0.94      0.94      2047\n",
      "           1       0.71      0.66      0.69       431\n",
      "\n",
      "    accuracy                           0.89      2478\n",
      "   macro avg       0.82      0.80      0.81      2478\n",
      "weighted avg       0.89      0.89      0.89      2478\n",
      "\n",
      "Evaluation for feature set: ['Human', 'Subject Focus', 'Accessory', 'Collage', 'Info']\n",
      "Classification Report:\n",
      "               precision    recall  f1-score   support\n",
      "\n",
      "           0       1.00      0.04      0.07      2047\n",
      "           1       0.18      1.00      0.30       431\n",
      "\n",
      "    accuracy                           0.20      2478\n",
      "   macro avg       0.59      0.52      0.19      2478\n",
      "weighted avg       0.86      0.20      0.11      2478\n",
      "\n",
      "Evaluation for feature set: ['Human', 'Info', 'Subject Focus']\n",
      "Classification Report:\n",
      "               precision    recall  f1-score   support\n",
      "\n",
      "           0       1.00      0.04      0.07      2047\n",
      "           1       0.18      1.00      0.30       431\n",
      "\n",
      "    accuracy                           0.20      2478\n",
      "   macro avg       0.59      0.52      0.19      2478\n",
      "weighted avg       0.86      0.20      0.11      2478\n",
      "\n",
      "Evaluation for feature set: ['Human', 'Accessory', 'Subject Focus', 'Group', 'Info']\n",
      "Classification Report:\n",
      "               precision    recall  f1-score   support\n",
      "\n",
      "           0       1.00      0.04      0.07      2047\n",
      "           1       0.18      1.00      0.30       431\n",
      "\n",
      "    accuracy                           0.20      2478\n",
      "   macro avg       0.59      0.52      0.19      2478\n",
      "weighted avg       0.86      0.20      0.11      2478\n",
      "\n"
     ]
    }
   ],
   "source": [
    "feature_set_1 = ['Human']\n",
    "feature_set_2 = ['Human', 'Subject Focus', 'Accessory', 'Collage', 'Info']\n",
    "feature_set_3 = ['Human', 'Info', 'Subject Focus']\n",
    "feature_set_4 = ['Human', 'Accessory', 'Subject Focus', 'Group', 'Info']\n",
    "\n",
    "clf = GaussianNB()\n",
    "\n",
    "X = df[feature_names]\n",
    "X_train, X_test, y_train, y_test = train_test_split(X, y, test_size=0.25, random_state=0)\n",
    "\n",
    "# Train and evaluate on each feature set\n",
    "for features in [feature_set_1, feature_set_2, feature_set_3, feature_set_4]:\n",
    "    X_train_fs = X_train[features]\n",
    "    X_test_fs = X_test[features]\n",
    "\n",
    "    # Train the model\n",
    "    clf.fit(X_train_fs, y_train)\n",
    "    \n",
    "    # Make predictions\n",
    "    y_pred = clf.predict(X_test_fs)\n",
    "    \n",
    "    # Evaluate the model\n",
    "    print(f\"Evaluation for feature set: {features}\")\n",
    "    print(\"Classification Report:\\n\", classification_report(y_test, y_pred))"
   ]
  },
  {
   "cell_type": "code",
   "execution_count": 260,
   "metadata": {},
   "outputs": [],
   "source": [
    "best_features = feature_set_1"
   ]
  },
  {
   "cell_type": "code",
   "execution_count": 261,
   "metadata": {},
   "outputs": [
    {
     "name": "stdout",
     "output_type": "stream",
     "text": [
      "              precision    recall  f1-score   support\n",
      "\n",
      "           0       0.93      0.94      0.94      2047\n",
      "           1       0.71      0.66      0.69       431\n",
      "\n",
      "    accuracy                           0.89      2478\n",
      "   macro avg       0.82      0.80      0.81      2478\n",
      "weighted avg       0.89      0.89      0.89      2478\n",
      "\n"
     ]
    }
   ],
   "source": [
    "X_train = X_train[best_features]\n",
    "X_test = X_test[best_features]\n",
    "\n",
    "# Train the model\n",
    "clf.fit(X_train, y_train)\n",
    "\n",
    "y_pred = clf.predict(X_test)\n",
    "\n",
    "report = classification_report(y_test, y_pred)\n",
    "print(report)"
   ]
  },
  {
   "cell_type": "code",
   "execution_count": 262,
   "metadata": {},
   "outputs": [
    {
     "data": {
      "image/png": "[encoded data removed]",
      "text/plain": [
       "<Figure size 640x480 with 2 Axes>"
      ]
     },
     "metadata": {},
     "output_type": "display_data"
    }
   ],
   "source": [
    "labels = [\"Not Occlusion\", \"Occlusion\"]\n",
    "cm = confusion_matrix(y_test, y_pred)\n",
    "disp = ConfusionMatrixDisplay(confusion_matrix=cm, display_labels=labels)\n",
    "disp.plot();"
   ]
  },
  {
   "cell_type": "code",
   "execution_count": 264,
   "metadata": {},
   "outputs": [
    {
     "name": "stdout",
     "output_type": "stream",
     "text": [
      "[[0.96572183 0.03427817]\n",
      " [0.96572183 0.03427817]\n",
      " [0.96572183 0.03427817]\n",
      " [0.96572183 0.03427817]\n",
      " [0.96572183 0.03427817]\n",
      " [0.00428591 0.99571409]\n",
      " [0.96572183 0.03427817]\n",
      " [0.00428591 0.99571409]]\n"
     ]
    }
   ],
   "source": [
    "test_data = pd.read_csv('Data/test.csv')\n",
    "test_data = test_data[best_features]\n",
    "\n",
    "results = clf.predict_proba(test_data)\n",
    "\n",
    "print(results)"
   ]
  },
  {
   "cell_type": "markdown",
   "metadata": {},
   "source": [
    "The numbers returned by predict_proba are the raw probabilities for each class, but they are indeed in a range of [0, 1] (not percentages). The values represent the model's estimated probability of each sample belonging to each class. Here's a more intuitive explanation:\n",
    "\n",
    "1.00000000e+00 is equivalent to a probability of 100% for class 0, and 0.00000000e+00 means 0% for class 1.\n",
    "9.99972102e-01 corresponds to approximately 99.9972% for class 1, and 2.78975483e-05 corresponds to about 0.0028% for class 0."
   ]
  }
 ],
 "metadata": {
  "kernelspec": {
   "display_name": "Python 3",
   "language": "python",
   "name": "python3"
  },
  "language_info": {
   "codemirror_mode": {
    "name": "ipython",
    "version": 3
   },
   "file_extension": ".py",
   "mimetype": "text/x-python",
   "name": "python",
   "nbconvert_exporter": "python",
   "pygments_lexer": "ipython3",
   "version": "3.13.2"
  }
 },
 "nbformat": 4,
 "nbformat_minor": 2
}
